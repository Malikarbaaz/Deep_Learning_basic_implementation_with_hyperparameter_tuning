{
  "nbformat": 4,
  "nbformat_minor": 0,
  "metadata": {
    "colab": {
      "name": " ANN_basic_implementation.ipynb",
      "provenance": [],
      "collapsed_sections": [],
      "authorship_tag": "ABX9TyPPQFR7LgK9nfxx597Y2q2h",
      "include_colab_link": true
    },
    "kernelspec": {
      "name": "python3",
      "display_name": "Python 3"
    },
    "language_info": {
      "name": "python"
    }
  },
  "cells": [
    {
      "cell_type": "markdown",
      "metadata": {
        "id": "view-in-github",
        "colab_type": "text"
      },
      "source": [
        "<a href=\"https://colab.research.google.com/github/Malikarbaaz/Deep_Learning_basic_implementation_with_hyperparameter_tuning/blob/main/ANN_basic_implementation.ipynb\" target=\"_parent\"><img src=\"https://colab.research.google.com/assets/colab-badge.svg\" alt=\"Open In Colab\"/></a>"
      ]
    },
    {
      "cell_type": "markdown",
      "source": [
        "# **ANN Model**\n"
      ],
      "metadata": {
        "id": "DBT1CgFB45nz"
      }
    },
    {
      "cell_type": "code",
      "execution_count": 1,
      "metadata": {
        "id": "Iw6Oxh8g44Hh"
      },
      "outputs": [],
      "source": [
        "import numpy as np\n",
        "import pandas as pd\n",
        "import matplotlib.pyplot as plt"
      ]
    },
    {
      "cell_type": "code",
      "source": [
        "from google.colab import drive\n",
        "drive.mount('/content/drive')"
      ],
      "metadata": {
        "colab": {
          "base_uri": "https://localhost:8080/"
        },
        "id": "PDi8IQ4i-RMl",
        "outputId": "71bc3e38-bd98-477b-e43d-665c37a4d423"
      },
      "execution_count": 2,
      "outputs": [
        {
          "output_type": "stream",
          "name": "stdout",
          "text": [
            "Mounted at /content/drive\n"
          ]
        }
      ]
    },
    {
      "cell_type": "code",
      "source": [
        "file_path = '/content/drive/MyDrive/Churn_Modelling.csv'"
      ],
      "metadata": {
        "id": "VGtCyQcv-eCJ"
      },
      "execution_count": 3,
      "outputs": []
    },
    {
      "cell_type": "code",
      "source": [
        "data = pd.read_csv(file_path)"
      ],
      "metadata": {
        "id": "j3bcVMl7-d-r"
      },
      "execution_count": 4,
      "outputs": []
    },
    {
      "cell_type": "code",
      "source": [
        "data.head()"
      ],
      "metadata": {
        "colab": {
          "base_uri": "https://localhost:8080/",
          "height": 206
        },
        "id": "oH9jWklr_CIB",
        "outputId": "2752310f-4818-478a-d185-a41228720e2e"
      },
      "execution_count": 5,
      "outputs": [
        {
          "output_type": "execute_result",
          "data": {
            "text/html": [
              "\n",
              "  <div id=\"df-1a423d56-8719-490a-97e5-c1782f170823\">\n",
              "    <div class=\"colab-df-container\">\n",
              "      <div>\n",
              "<style scoped>\n",
              "    .dataframe tbody tr th:only-of-type {\n",
              "        vertical-align: middle;\n",
              "    }\n",
              "\n",
              "    .dataframe tbody tr th {\n",
              "        vertical-align: top;\n",
              "    }\n",
              "\n",
              "    .dataframe thead th {\n",
              "        text-align: right;\n",
              "    }\n",
              "</style>\n",
              "<table border=\"1\" class=\"dataframe\">\n",
              "  <thead>\n",
              "    <tr style=\"text-align: right;\">\n",
              "      <th></th>\n",
              "      <th>RowNumber</th>\n",
              "      <th>CustomerId</th>\n",
              "      <th>Surname</th>\n",
              "      <th>CreditScore</th>\n",
              "      <th>Geography</th>\n",
              "      <th>Gender</th>\n",
              "      <th>Age</th>\n",
              "      <th>Tenure</th>\n",
              "      <th>Balance</th>\n",
              "      <th>NumOfProducts</th>\n",
              "      <th>HasCrCard</th>\n",
              "      <th>IsActiveMember</th>\n",
              "      <th>EstimatedSalary</th>\n",
              "      <th>Exited</th>\n",
              "    </tr>\n",
              "  </thead>\n",
              "  <tbody>\n",
              "    <tr>\n",
              "      <th>0</th>\n",
              "      <td>1</td>\n",
              "      <td>15634602</td>\n",
              "      <td>Hargrave</td>\n",
              "      <td>619</td>\n",
              "      <td>France</td>\n",
              "      <td>Female</td>\n",
              "      <td>42</td>\n",
              "      <td>2</td>\n",
              "      <td>0.00</td>\n",
              "      <td>1</td>\n",
              "      <td>1</td>\n",
              "      <td>1</td>\n",
              "      <td>101348.88</td>\n",
              "      <td>1</td>\n",
              "    </tr>\n",
              "    <tr>\n",
              "      <th>1</th>\n",
              "      <td>2</td>\n",
              "      <td>15647311</td>\n",
              "      <td>Hill</td>\n",
              "      <td>608</td>\n",
              "      <td>Spain</td>\n",
              "      <td>Female</td>\n",
              "      <td>41</td>\n",
              "      <td>1</td>\n",
              "      <td>83807.86</td>\n",
              "      <td>1</td>\n",
              "      <td>0</td>\n",
              "      <td>1</td>\n",
              "      <td>112542.58</td>\n",
              "      <td>0</td>\n",
              "    </tr>\n",
              "    <tr>\n",
              "      <th>2</th>\n",
              "      <td>3</td>\n",
              "      <td>15619304</td>\n",
              "      <td>Onio</td>\n",
              "      <td>502</td>\n",
              "      <td>France</td>\n",
              "      <td>Female</td>\n",
              "      <td>42</td>\n",
              "      <td>8</td>\n",
              "      <td>159660.80</td>\n",
              "      <td>3</td>\n",
              "      <td>1</td>\n",
              "      <td>0</td>\n",
              "      <td>113931.57</td>\n",
              "      <td>1</td>\n",
              "    </tr>\n",
              "    <tr>\n",
              "      <th>3</th>\n",
              "      <td>4</td>\n",
              "      <td>15701354</td>\n",
              "      <td>Boni</td>\n",
              "      <td>699</td>\n",
              "      <td>France</td>\n",
              "      <td>Female</td>\n",
              "      <td>39</td>\n",
              "      <td>1</td>\n",
              "      <td>0.00</td>\n",
              "      <td>2</td>\n",
              "      <td>0</td>\n",
              "      <td>0</td>\n",
              "      <td>93826.63</td>\n",
              "      <td>0</td>\n",
              "    </tr>\n",
              "    <tr>\n",
              "      <th>4</th>\n",
              "      <td>5</td>\n",
              "      <td>15737888</td>\n",
              "      <td>Mitchell</td>\n",
              "      <td>850</td>\n",
              "      <td>Spain</td>\n",
              "      <td>Female</td>\n",
              "      <td>43</td>\n",
              "      <td>2</td>\n",
              "      <td>125510.82</td>\n",
              "      <td>1</td>\n",
              "      <td>1</td>\n",
              "      <td>1</td>\n",
              "      <td>79084.10</td>\n",
              "      <td>0</td>\n",
              "    </tr>\n",
              "  </tbody>\n",
              "</table>\n",
              "</div>\n",
              "      <button class=\"colab-df-convert\" onclick=\"convertToInteractive('df-1a423d56-8719-490a-97e5-c1782f170823')\"\n",
              "              title=\"Convert this dataframe to an interactive table.\"\n",
              "              style=\"display:none;\">\n",
              "        \n",
              "  <svg xmlns=\"http://www.w3.org/2000/svg\" height=\"24px\"viewBox=\"0 0 24 24\"\n",
              "       width=\"24px\">\n",
              "    <path d=\"M0 0h24v24H0V0z\" fill=\"none\"/>\n",
              "    <path d=\"M18.56 5.44l.94 2.06.94-2.06 2.06-.94-2.06-.94-.94-2.06-.94 2.06-2.06.94zm-11 1L8.5 8.5l.94-2.06 2.06-.94-2.06-.94L8.5 2.5l-.94 2.06-2.06.94zm10 10l.94 2.06.94-2.06 2.06-.94-2.06-.94-.94-2.06-.94 2.06-2.06.94z\"/><path d=\"M17.41 7.96l-1.37-1.37c-.4-.4-.92-.59-1.43-.59-.52 0-1.04.2-1.43.59L10.3 9.45l-7.72 7.72c-.78.78-.78 2.05 0 2.83L4 21.41c.39.39.9.59 1.41.59.51 0 1.02-.2 1.41-.59l7.78-7.78 2.81-2.81c.8-.78.8-2.07 0-2.86zM5.41 20L4 18.59l7.72-7.72 1.47 1.35L5.41 20z\"/>\n",
              "  </svg>\n",
              "      </button>\n",
              "      \n",
              "  <style>\n",
              "    .colab-df-container {\n",
              "      display:flex;\n",
              "      flex-wrap:wrap;\n",
              "      gap: 12px;\n",
              "    }\n",
              "\n",
              "    .colab-df-convert {\n",
              "      background-color: #E8F0FE;\n",
              "      border: none;\n",
              "      border-radius: 50%;\n",
              "      cursor: pointer;\n",
              "      display: none;\n",
              "      fill: #1967D2;\n",
              "      height: 32px;\n",
              "      padding: 0 0 0 0;\n",
              "      width: 32px;\n",
              "    }\n",
              "\n",
              "    .colab-df-convert:hover {\n",
              "      background-color: #E2EBFA;\n",
              "      box-shadow: 0px 1px 2px rgba(60, 64, 67, 0.3), 0px 1px 3px 1px rgba(60, 64, 67, 0.15);\n",
              "      fill: #174EA6;\n",
              "    }\n",
              "\n",
              "    [theme=dark] .colab-df-convert {\n",
              "      background-color: #3B4455;\n",
              "      fill: #D2E3FC;\n",
              "    }\n",
              "\n",
              "    [theme=dark] .colab-df-convert:hover {\n",
              "      background-color: #434B5C;\n",
              "      box-shadow: 0px 1px 3px 1px rgba(0, 0, 0, 0.15);\n",
              "      filter: drop-shadow(0px 1px 2px rgba(0, 0, 0, 0.3));\n",
              "      fill: #FFFFFF;\n",
              "    }\n",
              "  </style>\n",
              "\n",
              "      <script>\n",
              "        const buttonEl =\n",
              "          document.querySelector('#df-1a423d56-8719-490a-97e5-c1782f170823 button.colab-df-convert');\n",
              "        buttonEl.style.display =\n",
              "          google.colab.kernel.accessAllowed ? 'block' : 'none';\n",
              "\n",
              "        async function convertToInteractive(key) {\n",
              "          const element = document.querySelector('#df-1a423d56-8719-490a-97e5-c1782f170823');\n",
              "          const dataTable =\n",
              "            await google.colab.kernel.invokeFunction('convertToInteractive',\n",
              "                                                     [key], {});\n",
              "          if (!dataTable) return;\n",
              "\n",
              "          const docLinkHtml = 'Like what you see? Visit the ' +\n",
              "            '<a target=\"_blank\" href=https://colab.research.google.com/notebooks/data_table.ipynb>data table notebook</a>'\n",
              "            + ' to learn more about interactive tables.';\n",
              "          element.innerHTML = '';\n",
              "          dataTable['output_type'] = 'display_data';\n",
              "          await google.colab.output.renderOutput(dataTable, element);\n",
              "          const docLink = document.createElement('div');\n",
              "          docLink.innerHTML = docLinkHtml;\n",
              "          element.appendChild(docLink);\n",
              "        }\n",
              "      </script>\n",
              "    </div>\n",
              "  </div>\n",
              "  "
            ],
            "text/plain": [
              "   RowNumber  CustomerId   Surname  ...  IsActiveMember EstimatedSalary Exited\n",
              "0          1    15634602  Hargrave  ...               1       101348.88      1\n",
              "1          2    15647311      Hill  ...               1       112542.58      0\n",
              "2          3    15619304      Onio  ...               0       113931.57      1\n",
              "3          4    15701354      Boni  ...               0        93826.63      0\n",
              "4          5    15737888  Mitchell  ...               1        79084.10      0\n",
              "\n",
              "[5 rows x 14 columns]"
            ]
          },
          "metadata": {},
          "execution_count": 5
        }
      ]
    },
    {
      "cell_type": "code",
      "source": [
        "# Independent and dependent variables\n",
        "X = data.iloc[:,3:13]\n",
        "y = data.iloc[:,13]"
      ],
      "metadata": {
        "id": "XZ9Mjs6Z_IwP"
      },
      "execution_count": 6,
      "outputs": []
    },
    {
      "cell_type": "code",
      "source": [
        "# Create Dummy variables\n",
        "geography = pd.get_dummies(X['Geography'], drop_first = True)\n",
        "gender = pd.get_dummies(X['Gender'], drop_first = True)"
      ],
      "metadata": {
        "id": "iWXbEL0A_eXd"
      },
      "execution_count": 7,
      "outputs": []
    },
    {
      "cell_type": "code",
      "source": [
        "# Concate the dataframe\n",
        "X = pd.concat([X, geography, gender], axis=1)"
      ],
      "metadata": {
        "id": "WGNMwZ23_7gS"
      },
      "execution_count": 8,
      "outputs": []
    },
    {
      "cell_type": "code",
      "source": [
        "#drop unnessary column\n",
        "X = X.drop(['Geography', 'Gender'], axis =1)"
      ],
      "metadata": {
        "id": "NWK8cKX0AHU8"
      },
      "execution_count": 9,
      "outputs": []
    },
    {
      "cell_type": "code",
      "source": [
        "# Splitting the dataset into train and test\n",
        "from sklearn.model_selection import train_test_split\n",
        "X_train, X_test, y_train, y_test = train_test_split(X, y, test_size = 0.2, random_state = 0)"
      ],
      "metadata": {
        "id": "Yqk2an1cAbTx"
      },
      "execution_count": 10,
      "outputs": []
    },
    {
      "cell_type": "code",
      "source": [
        "#Feature scaling\n",
        "from sklearn.preprocessing import StandardScaler\n",
        "sc = StandardScaler()\n",
        "X_train = sc.fit_transform(X_train)\n",
        "X_test = sc.fit_transform(X_test)\n"
      ],
      "metadata": {
        "id": "WNQRVNTIBkfy"
      },
      "execution_count": 11,
      "outputs": []
    },
    {
      "cell_type": "code",
      "source": [
        "X_train"
      ],
      "metadata": {
        "colab": {
          "base_uri": "https://localhost:8080/"
        },
        "id": "wSGxiVRcD_I7",
        "outputId": "63e384a4-19ce-4010-b00a-9ec9438faff2"
      },
      "execution_count": 12,
      "outputs": [
        {
          "output_type": "execute_result",
          "data": {
            "text/plain": [
              "array([[ 0.16958176, -0.46460796,  0.00666099, ..., -0.5698444 ,\n",
              "         1.74309049, -1.09168714],\n",
              "       [-2.30455945,  0.30102557, -1.37744033, ...,  1.75486502,\n",
              "        -0.57369368,  0.91601335],\n",
              "       [-1.19119591, -0.94312892, -1.031415  , ..., -0.5698444 ,\n",
              "        -0.57369368, -1.09168714],\n",
              "       ...,\n",
              "       [ 0.9015152 , -0.36890377,  0.00666099, ..., -0.5698444 ,\n",
              "        -0.57369368,  0.91601335],\n",
              "       [-0.62420521, -0.08179119,  1.39076231, ..., -0.5698444 ,\n",
              "         1.74309049, -1.09168714],\n",
              "       [-0.28401079,  0.87525072, -1.37744033, ...,  1.75486502,\n",
              "        -0.57369368, -1.09168714]])"
            ]
          },
          "metadata": {},
          "execution_count": 12
        }
      ]
    },
    {
      "cell_type": "markdown",
      "source": [
        "### Now lets make the ANN"
      ],
      "metadata": {
        "id": "acZ7Eca0DzVc"
      }
    },
    {
      "cell_type": "code",
      "source": [
        "#Importing keras libraries and packages\n",
        "import keras\n",
        "from keras.models import Sequential\n",
        "from keras.layers import Dense\n",
        "from keras.layers import LeakyReLU, PReLU, ELU\n",
        "from keras.layers import Dropout"
      ],
      "metadata": {
        "id": "4K9FpjOqDneg"
      },
      "execution_count": 13,
      "outputs": []
    },
    {
      "cell_type": "code",
      "source": [
        "# Initialising the ANN\n",
        "classifer = Sequential()"
      ],
      "metadata": {
        "id": "BC16_89hEga2"
      },
      "execution_count": 14,
      "outputs": []
    },
    {
      "cell_type": "code",
      "source": [
        "#Adding the input layer and first hidden layer\n",
        "classifer.add(Dense(output_dim = 6, init = 'he_uniform', activation = 'relu', input_dim = 11)) "
      ],
      "metadata": {
        "colab": {
          "base_uri": "https://localhost:8080/",
          "height": 190
        },
        "id": "Ft6nXWmWFzNw",
        "outputId": "6f82260c-df29-4799-e801-b50f26e6330d"
      },
      "execution_count": 15,
      "outputs": [
        {
          "output_type": "error",
          "ename": "TypeError",
          "evalue": "ignored",
          "traceback": [
            "\u001b[0;31m---------------------------------------------------------------------------\u001b[0m",
            "\u001b[0;31mTypeError\u001b[0m                                 Traceback (most recent call last)",
            "\u001b[0;32m<ipython-input-15-207ba8c91292>\u001b[0m in \u001b[0;36m<module>\u001b[0;34m()\u001b[0m\n\u001b[1;32m      1\u001b[0m \u001b[0;31m#Adding the input layer and first hidden layer\u001b[0m\u001b[0;34m\u001b[0m\u001b[0;34m\u001b[0m\u001b[0;34m\u001b[0m\u001b[0m\n\u001b[0;32m----> 2\u001b[0;31m \u001b[0mclassifer\u001b[0m\u001b[0;34m.\u001b[0m\u001b[0madd\u001b[0m\u001b[0;34m(\u001b[0m\u001b[0mDense\u001b[0m\u001b[0;34m(\u001b[0m\u001b[0moutput_dim\u001b[0m \u001b[0;34m=\u001b[0m \u001b[0;36m6\u001b[0m\u001b[0;34m,\u001b[0m \u001b[0minit\u001b[0m \u001b[0;34m=\u001b[0m \u001b[0;34m'he_uniform'\u001b[0m\u001b[0;34m,\u001b[0m \u001b[0mactivation\u001b[0m \u001b[0;34m=\u001b[0m \u001b[0;34m'relu'\u001b[0m\u001b[0;34m,\u001b[0m \u001b[0minput_dim\u001b[0m \u001b[0;34m=\u001b[0m \u001b[0;36m11\u001b[0m\u001b[0;34m)\u001b[0m\u001b[0;34m)\u001b[0m\u001b[0;34m\u001b[0m\u001b[0;34m\u001b[0m\u001b[0m\n\u001b[0m",
            "\u001b[0;31mTypeError\u001b[0m: __init__() missing 1 required positional argument: 'units'"
          ]
        }
      ]
    },
    {
      "cell_type": "code",
      "source": [
        "#Adding the input layer and first hidden layer\n",
        "classifer.add(Dense(units = 6, kernel_initializer = 'he_uniform', activation = 'relu', input_dim = 11)) "
      ],
      "metadata": {
        "id": "RB0AEHfLImEG"
      },
      "execution_count": 16,
      "outputs": []
    },
    {
      "cell_type": "code",
      "source": [
        "#Adding the second hidden layer\n",
        "classifer.add(Dense(units = 6, kernel_initializer = 'he_uniform', activation = 'relu')) "
      ],
      "metadata": {
        "id": "PZLWuWh_I0eK"
      },
      "execution_count": 18,
      "outputs": []
    },
    {
      "cell_type": "code",
      "source": [
        "#Adding the output layer\n",
        "classifer.add(Dense(units = 1, kernel_initializer = 'glorot_uniform', activation = 'sigmoid'))  # because o/p is binary so thatswhy we are usnig sigmoid af."
      ],
      "metadata": {
        "id": "Mswc6I_8KrFz"
      },
      "execution_count": 19,
      "outputs": []
    },
    {
      "cell_type": "code",
      "source": [
        "classifer.summary()"
      ],
      "metadata": {
        "colab": {
          "base_uri": "https://localhost:8080/"
        },
        "id": "cdq-C_VgMCml",
        "outputId": "0a930c27-bf49-4fac-85e3-9549ad1eff8a"
      },
      "execution_count": 20,
      "outputs": [
        {
          "output_type": "stream",
          "name": "stdout",
          "text": [
            "Model: \"sequential\"\n",
            "_________________________________________________________________\n",
            " Layer (type)                Output Shape              Param #   \n",
            "=================================================================\n",
            " dense (Dense)               (None, 6)                 72        \n",
            "                                                                 \n",
            " dense_1 (Dense)             (None, 6)                 42        \n",
            "                                                                 \n",
            " dense_2 (Dense)             (None, 6)                 42        \n",
            "                                                                 \n",
            " dense_3 (Dense)             (None, 1)                 7         \n",
            "                                                                 \n",
            "=================================================================\n",
            "Total params: 163\n",
            "Trainable params: 163\n",
            "Non-trainable params: 0\n",
            "_________________________________________________________________\n"
          ]
        }
      ]
    },
    {
      "cell_type": "code",
      "source": [
        "# Compiling the ANN\n",
        "classifer.compile(optimizer= 'adam', loss= 'binary_crossentropy', metrics = ['accuracy'])"
      ],
      "metadata": {
        "id": "XuD3KdxeLp7C"
      },
      "execution_count": 21,
      "outputs": []
    },
    {
      "cell_type": "code",
      "source": [
        "#Fitting the ANN to the Traning set\n",
        "model_history = classifer.fit(X_train, y_train, validation_split = 0.33, batch_size = 10, epochs = 50)"
      ],
      "metadata": {
        "colab": {
          "base_uri": "https://localhost:8080/"
        },
        "id": "EQIrebNQMt14",
        "outputId": "4c99acc9-0dca-4a1b-95e8-6e22deeb6620"
      },
      "execution_count": 22,
      "outputs": [
        {
          "output_type": "stream",
          "name": "stdout",
          "text": [
            "Epoch 1/50\n",
            "536/536 [==============================] - 2s 3ms/step - loss: 0.5996 - accuracy: 0.7276 - val_loss: 0.5092 - val_accuracy: 0.7936\n",
            "Epoch 2/50\n",
            "536/536 [==============================] - 1s 2ms/step - loss: 0.4753 - accuracy: 0.7987 - val_loss: 0.4668 - val_accuracy: 0.8001\n",
            "Epoch 3/50\n",
            "536/536 [==============================] - 1s 2ms/step - loss: 0.4488 - accuracy: 0.8041 - val_loss: 0.4530 - val_accuracy: 0.8012\n",
            "Epoch 4/50\n",
            "536/536 [==============================] - 1s 2ms/step - loss: 0.4353 - accuracy: 0.8069 - val_loss: 0.4453 - val_accuracy: 0.8020\n",
            "Epoch 5/50\n",
            "536/536 [==============================] - 1s 2ms/step - loss: 0.4220 - accuracy: 0.8136 - val_loss: 0.4333 - val_accuracy: 0.8126\n",
            "Epoch 6/50\n",
            "536/536 [==============================] - 1s 2ms/step - loss: 0.4070 - accuracy: 0.8220 - val_loss: 0.4220 - val_accuracy: 0.8141\n",
            "Epoch 7/50\n",
            "536/536 [==============================] - 1s 2ms/step - loss: 0.3925 - accuracy: 0.8298 - val_loss: 0.4054 - val_accuracy: 0.8171\n",
            "Epoch 8/50\n",
            "536/536 [==============================] - 1s 2ms/step - loss: 0.3804 - accuracy: 0.8388 - val_loss: 0.3957 - val_accuracy: 0.8205\n",
            "Epoch 9/50\n",
            "536/536 [==============================] - 1s 2ms/step - loss: 0.3713 - accuracy: 0.8421 - val_loss: 0.3877 - val_accuracy: 0.8254\n",
            "Epoch 10/50\n",
            "536/536 [==============================] - 1s 2ms/step - loss: 0.3648 - accuracy: 0.8433 - val_loss: 0.3817 - val_accuracy: 0.8315\n",
            "Epoch 11/50\n",
            "536/536 [==============================] - 1s 2ms/step - loss: 0.3601 - accuracy: 0.8492 - val_loss: 0.3789 - val_accuracy: 0.8376\n",
            "Epoch 12/50\n",
            "536/536 [==============================] - 1s 2ms/step - loss: 0.3564 - accuracy: 0.8483 - val_loss: 0.3783 - val_accuracy: 0.8398\n",
            "Epoch 13/50\n",
            "536/536 [==============================] - 1s 2ms/step - loss: 0.3527 - accuracy: 0.8498 - val_loss: 0.3733 - val_accuracy: 0.8326\n",
            "Epoch 14/50\n",
            "536/536 [==============================] - 1s 2ms/step - loss: 0.3487 - accuracy: 0.8546 - val_loss: 0.3722 - val_accuracy: 0.8410\n",
            "Epoch 15/50\n",
            "536/536 [==============================] - 1s 2ms/step - loss: 0.3471 - accuracy: 0.8537 - val_loss: 0.3704 - val_accuracy: 0.8417\n",
            "Epoch 16/50\n",
            "536/536 [==============================] - 1s 2ms/step - loss: 0.3447 - accuracy: 0.8580 - val_loss: 0.3671 - val_accuracy: 0.8444\n",
            "Epoch 17/50\n",
            "536/536 [==============================] - 1s 2ms/step - loss: 0.3435 - accuracy: 0.8571 - val_loss: 0.3661 - val_accuracy: 0.8417\n",
            "Epoch 18/50\n",
            "536/536 [==============================] - 1s 2ms/step - loss: 0.3412 - accuracy: 0.8597 - val_loss: 0.3653 - val_accuracy: 0.8440\n",
            "Epoch 19/50\n",
            "536/536 [==============================] - 1s 2ms/step - loss: 0.3404 - accuracy: 0.8587 - val_loss: 0.3633 - val_accuracy: 0.8459\n",
            "Epoch 20/50\n",
            "536/536 [==============================] - 1s 2ms/step - loss: 0.3390 - accuracy: 0.8586 - val_loss: 0.3625 - val_accuracy: 0.8440\n",
            "Epoch 21/50\n",
            "536/536 [==============================] - 1s 2ms/step - loss: 0.3376 - accuracy: 0.8599 - val_loss: 0.3628 - val_accuracy: 0.8444\n",
            "Epoch 22/50\n",
            "536/536 [==============================] - 1s 2ms/step - loss: 0.3364 - accuracy: 0.8600 - val_loss: 0.3601 - val_accuracy: 0.8489\n",
            "Epoch 23/50\n",
            "536/536 [==============================] - 1s 2ms/step - loss: 0.3356 - accuracy: 0.8606 - val_loss: 0.3597 - val_accuracy: 0.8482\n",
            "Epoch 24/50\n",
            "536/536 [==============================] - 1s 2ms/step - loss: 0.3346 - accuracy: 0.8617 - val_loss: 0.3592 - val_accuracy: 0.8523\n",
            "Epoch 25/50\n",
            "536/536 [==============================] - 1s 2ms/step - loss: 0.3345 - accuracy: 0.8606 - val_loss: 0.3576 - val_accuracy: 0.8527\n",
            "Epoch 26/50\n",
            "536/536 [==============================] - 1s 2ms/step - loss: 0.3334 - accuracy: 0.8602 - val_loss: 0.3592 - val_accuracy: 0.8501\n",
            "Epoch 27/50\n",
            "536/536 [==============================] - 1s 2ms/step - loss: 0.3324 - accuracy: 0.8634 - val_loss: 0.3564 - val_accuracy: 0.8554\n",
            "Epoch 28/50\n",
            "536/536 [==============================] - 1s 2ms/step - loss: 0.3323 - accuracy: 0.8604 - val_loss: 0.3594 - val_accuracy: 0.8501\n",
            "Epoch 29/50\n",
            "536/536 [==============================] - 1s 2ms/step - loss: 0.3316 - accuracy: 0.8610 - val_loss: 0.3558 - val_accuracy: 0.8531\n",
            "Epoch 30/50\n",
            "536/536 [==============================] - 1s 2ms/step - loss: 0.3306 - accuracy: 0.8612 - val_loss: 0.3586 - val_accuracy: 0.8504\n",
            "Epoch 31/50\n",
            "536/536 [==============================] - 1s 2ms/step - loss: 0.3312 - accuracy: 0.8612 - val_loss: 0.3559 - val_accuracy: 0.8538\n",
            "Epoch 32/50\n",
            "536/536 [==============================] - 1s 2ms/step - loss: 0.3312 - accuracy: 0.8623 - val_loss: 0.3564 - val_accuracy: 0.8569\n",
            "Epoch 33/50\n",
            "536/536 [==============================] - 1s 2ms/step - loss: 0.3303 - accuracy: 0.8636 - val_loss: 0.3543 - val_accuracy: 0.8576\n",
            "Epoch 34/50\n",
            "536/536 [==============================] - 1s 2ms/step - loss: 0.3299 - accuracy: 0.8621 - val_loss: 0.3550 - val_accuracy: 0.8557\n",
            "Epoch 35/50\n",
            "536/536 [==============================] - 1s 2ms/step - loss: 0.3285 - accuracy: 0.8630 - val_loss: 0.3563 - val_accuracy: 0.8535\n",
            "Epoch 36/50\n",
            "536/536 [==============================] - 1s 2ms/step - loss: 0.3293 - accuracy: 0.8636 - val_loss: 0.3546 - val_accuracy: 0.8561\n",
            "Epoch 37/50\n",
            "536/536 [==============================] - 1s 2ms/step - loss: 0.3284 - accuracy: 0.8625 - val_loss: 0.3556 - val_accuracy: 0.8531\n",
            "Epoch 38/50\n",
            "536/536 [==============================] - 1s 2ms/step - loss: 0.3280 - accuracy: 0.8642 - val_loss: 0.3577 - val_accuracy: 0.8576\n",
            "Epoch 39/50\n",
            "536/536 [==============================] - 1s 2ms/step - loss: 0.3269 - accuracy: 0.8630 - val_loss: 0.3583 - val_accuracy: 0.8512\n",
            "Epoch 40/50\n",
            "536/536 [==============================] - 1s 2ms/step - loss: 0.3270 - accuracy: 0.8610 - val_loss: 0.3564 - val_accuracy: 0.8546\n",
            "Epoch 41/50\n",
            "536/536 [==============================] - 1s 2ms/step - loss: 0.3259 - accuracy: 0.8658 - val_loss: 0.3570 - val_accuracy: 0.8493\n",
            "Epoch 42/50\n",
            "536/536 [==============================] - 1s 2ms/step - loss: 0.3257 - accuracy: 0.8643 - val_loss: 0.3612 - val_accuracy: 0.8527\n",
            "Epoch 43/50\n",
            "536/536 [==============================] - 1s 2ms/step - loss: 0.3256 - accuracy: 0.8628 - val_loss: 0.3550 - val_accuracy: 0.8516\n",
            "Epoch 44/50\n",
            "536/536 [==============================] - 1s 2ms/step - loss: 0.3247 - accuracy: 0.8634 - val_loss: 0.3582 - val_accuracy: 0.8504\n",
            "Epoch 45/50\n",
            "536/536 [==============================] - 1s 2ms/step - loss: 0.3256 - accuracy: 0.8632 - val_loss: 0.3570 - val_accuracy: 0.8550\n",
            "Epoch 46/50\n",
            "536/536 [==============================] - 1s 2ms/step - loss: 0.3250 - accuracy: 0.8627 - val_loss: 0.3563 - val_accuracy: 0.8501\n",
            "Epoch 47/50\n",
            "536/536 [==============================] - 1s 2ms/step - loss: 0.3250 - accuracy: 0.8623 - val_loss: 0.3552 - val_accuracy: 0.8535\n",
            "Epoch 48/50\n",
            "536/536 [==============================] - 1s 2ms/step - loss: 0.3246 - accuracy: 0.8630 - val_loss: 0.3579 - val_accuracy: 0.8493\n",
            "Epoch 49/50\n",
            "536/536 [==============================] - 1s 2ms/step - loss: 0.3243 - accuracy: 0.8625 - val_loss: 0.3571 - val_accuracy: 0.8531\n",
            "Epoch 50/50\n",
            "536/536 [==============================] - 1s 2ms/step - loss: 0.3246 - accuracy: 0.8645 - val_loss: 0.3566 - val_accuracy: 0.8493\n"
          ]
        }
      ]
    },
    {
      "cell_type": "code",
      "source": [
        "y_pred = classifer.predict(X_test)\n",
        "y_pred = (y_pred > 0.5)"
      ],
      "metadata": {
        "id": "Duyq2YoxSd5k"
      },
      "execution_count": 24,
      "outputs": []
    },
    {
      "cell_type": "code",
      "source": [
        "#Calculate the accuracy \n",
        "from sklearn.metrics import accuracy_score\n",
        "score = accuracy_score(y_pred, y_test)\n",
        "score"
      ],
      "metadata": {
        "colab": {
          "base_uri": "https://localhost:8080/"
        },
        "id": "qRNdYEwQSA7R",
        "outputId": "33879153-f688-4cdd-9b88-aa50648844bb"
      },
      "execution_count": 25,
      "outputs": [
        {
          "output_type": "execute_result",
          "data": {
            "text/plain": [
              "0.8645"
            ]
          },
          "metadata": {},
          "execution_count": 25
        }
      ]
    },
    {
      "cell_type": "code",
      "source": [
        "# Summarize history for loss\n",
        "plt.plot(model_history.history['loss'])\n",
        "plt.plot(model_history.history['val_loss'])\n",
        "plt.title('model loss')\n",
        "plt.ylabel('loss')\n",
        "plt.xlabel('epoch')\n",
        "plt.legend(['train', 'test'], loc = 'upper left')\n",
        "plt.show()\n"
      ],
      "metadata": {
        "colab": {
          "base_uri": "https://localhost:8080/",
          "height": 294
        },
        "id": "WU83Mt_WQHdg",
        "outputId": "13f5cb90-d3d5-4670-d844-5a310d520b97"
      },
      "execution_count": 23,
      "outputs": [
        {
          "output_type": "display_data",
          "data": {
            "image/png": "[encoded data removed]",
            "text/plain": [
              "<Figure size 432x288 with 1 Axes>"
            ]
          },
          "metadata": {
            "needs_background": "light"
          }
        }
      ]
    },
    {
      "cell_type": "code",
      "source": [
        "# Making the confusion matrix\n",
        "from sklearn.metrics import confusion_matrix\n",
        "cm = confusion_matrix(y_test, y_pred)"
      ],
      "metadata": {
        "id": "EYwDmn9dSZBs"
      },
      "execution_count": 26,
      "outputs": []
    },
    {
      "cell_type": "code",
      "source": [
        "cm"
      ],
      "metadata": {
        "colab": {
          "base_uri": "https://localhost:8080/"
        },
        "id": "Wa2Kh3xdTHW6",
        "outputId": "c7efc3c4-c330-49ca-a9ef-7eb195ac39d1"
      },
      "execution_count": 27,
      "outputs": [
        {
          "output_type": "execute_result",
          "data": {
            "text/plain": [
              "array([[1519,   76],\n",
              "       [ 195,  210]])"
            ]
          },
          "metadata": {},
          "execution_count": 27
        }
      ]
    }
  ]
}